{
 "cells": [
  {
   "attachments": {},
   "cell_type": "markdown",
   "metadata": {},
   "source": [
    "Usamos teste de hipotese para provar ou refutar algo\n",
    "\n",
    "Uma máquina produz perfumes com média de 150 ml e desvio padrão de 2 ml. Quatro frascos foram recolhidos ao acaso da produção e o volume médio desses 4 frascos foi 153,8 ml. Essa média permite dizer que a máquina está produzindo dentro da especificação? Realize o teste com nível de confinça de 95%."
   ]
  },
  {
   "attachments": {},
   "cell_type": "markdown",
   "metadata": {},
   "source": [
    "H0: μ = 150 ml \\\n",
    "Ha: μ ≠ 150ml\n",
    "\n",
    "\n",
    "Alpha = 1 - 0,95 = 0,05  \\\n",
    "Z calc = (Média observada - média populacional) / (desvio padrão / raiz de n)"
   ]
  },
  {
   "cell_type": "code",
   "execution_count": 1,
   "metadata": {},
   "outputs": [],
   "source": [
    "import numpy as np\n",
    "import pandas as pd\n",
    "from scipy.stats import norm"
   ]
  },
  {
   "cell_type": "code",
   "execution_count": 3,
   "metadata": {},
   "outputs": [
    {
     "data": {
      "text/plain": [
       "3.8000000000000114"
      ]
     },
     "execution_count": 3,
     "metadata": {},
     "output_type": "execute_result"
    }
   ],
   "source": [
    "z_calc = (153.8 - 150)/(2/np.sqrt(4))\n",
    "z_calc"
   ]
  },
  {
   "attachments": {},
   "cell_type": "markdown",
   "metadata": {},
   "source": [
    "### Funções da Distribuição Normal (Usando `scipy.stats.norm`)\n",
    "\n",
    "- **`norm.pdf(x, loc=0, scale=1)`**: \n",
    "  - **Função densidade de probabilidade** (PDF).\n",
    "  - Retorna a altura da função densidade no ponto `x`.\n",
    "  - Para a normal padrão, `loc=0` e `scale=1` são os valores padrão (média e desvio padrão).\n",
    "\n",
    "- **`norm.cdf(x, loc=0, scale=1)`**: \n",
    "  - **Função distribuição acumulada** (CDF).\n",
    "  - Retorna a **probabilidade acumulada até o ponto `x`** (área sob a curva à esquerda de `x`).\n",
    "  \n",
    "- **`norm.sf(x, loc=0, scale=1)`**: \n",
    "  - **Função sobrevivência** (SF).\n",
    "  - Retorna a probabilidade de o valor ser **maior que `x`**: \\( 1 - CDF(x) \\).\n",
    "  \n",
    "- **`norm.ppf(x, loc=0, scale=1)`**:\n",
    "  - **Função ponto percentual** (Percent Point Function - PPF).\n",
    "  - Retorna o valor de `x` para o qual a **probabilidade acumulada** é igual a `x`.\n",
    "  - É a inversa da CDF, ou seja, o **percentil correspondente** a uma probabilidade dada.\n",
    "  \n",
    "- **`norm.isf(x, loc=0, scale=1)`**:\n",
    "  - **Função inversa de sobrevivência** (Inverse Survival Function - ISF).\n",
    "  - Retorna o valor de `x` tal que a probabilidade de ser **maior que `x`** é igual a `x`.\n",
    "  - É a inversa da SF, ou seja, o valor para o qual a **probabilidade de sobrevivência** é dada."
   ]
  },
  {
   "cell_type": "code",
   "execution_count": 4,
   "metadata": {},
   "outputs": [
    {
     "data": {
      "text/plain": [
       "0.024997895148220435"
      ]
     },
     "execution_count": 4,
     "metadata": {},
     "output_type": "execute_result"
    }
   ],
   "source": [
    "norm.cdf(-1.96)"
   ]
  },
  {
   "cell_type": "code",
   "execution_count": 6,
   "metadata": {},
   "outputs": [
    {
     "data": {
      "text/plain": [
       "-1.9599639845400545"
      ]
     },
     "execution_count": 6,
     "metadata": {},
     "output_type": "execute_result"
    }
   ],
   "source": [
    "norm.ppf(0.025)"
   ]
  },
  {
   "cell_type": "code",
   "execution_count": 7,
   "metadata": {},
   "outputs": [
    {
     "data": {
      "text/plain": [
       "0.024997895148220435"
      ]
     },
     "execution_count": 7,
     "metadata": {},
     "output_type": "execute_result"
    }
   ],
   "source": [
    "norm.sf(1.96)"
   ]
  },
  {
   "cell_type": "code",
   "execution_count": 9,
   "metadata": {},
   "outputs": [
    {
     "data": {
      "text/plain": [
       "1.9599639845400545"
      ]
     },
     "execution_count": 9,
     "metadata": {},
     "output_type": "execute_result"
    }
   ],
   "source": [
    "norm.isf(0.025)"
   ]
  },
  {
   "cell_type": "markdown",
   "metadata": {},
   "source": [
    "Temos sz_criticos = 1.96 e z_calc = 3.8; portanto rejeitamos a hipotese nula, o volume medio é diferente de 150ml"
   ]
  }
 ],
 "metadata": {
  "kernelspec": {
   "display_name": "Python 3",
   "language": "python",
   "name": "python3"
  },
  "language_info": {
   "codemirror_mode": {
    "name": "ipython",
    "version": 3
   },
   "file_extension": ".py",
   "mimetype": "text/x-python",
   "name": "python",
   "nbconvert_exporter": "python",
   "pygments_lexer": "ipython3",
   "version": "3.11.3"
  },
  "orig_nbformat": 4
 },
 "nbformat": 4,
 "nbformat_minor": 2
}

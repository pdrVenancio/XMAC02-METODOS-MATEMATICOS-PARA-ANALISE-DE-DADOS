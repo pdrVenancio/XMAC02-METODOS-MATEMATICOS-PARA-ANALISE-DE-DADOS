{
 "cells": [
  {
   "attachments": {},
   "cell_type": "markdown",
   "metadata": {},
   "source": [
    "## Teste de uma proporção"
   ]
  },
  {
   "cell_type": "code",
   "execution_count": 1,
   "metadata": {},
   "outputs": [],
   "source": [
    "import pandas as pd\n",
    "import numpy as np\n",
    "import seaborn as sns\n",
    "import scipy.stats as stats"
   ]
  },
  {
   "cell_type": "code",
   "execution_count": null,
   "metadata": {},
   "outputs": [],
   "source": [
    "#  (default): Testa se a probabilidade do sucesso é diferente de p (não importa se for maior ou menor, apenas que seja diferente).\n",
    "stats.binomtest(14, 100,p = 0.21, alternative='two-sided') \n",
    "\n",
    "# Testa se a probabilidade do sucesso é menor que p (a hipótese alternativa é de que a proporção de sucessos é menor do que o valor especificado).\n",
    "stats.binomtest(14, 100,p = 0.21, alternative='less')\n",
    "\n",
    "# greater': Testa se a probabilidade do sucesso é maior que p (a hipótese alternativa é de que a proporção de sucessos é maior que o valor especificado).\n",
    "stats.binomtest(14, 100,p = 0.21, alternative='greater')"
   ]
  },
  {
   "attachments": {},
   "cell_type": "markdown",
   "metadata": {},
   "source": [
    "Taxa de fumantes em uma cidade era 21%. Uma amostra de 100 habitantes encontrou 14 fumantes. A proporção de fumantes da cidade mudou (nível de confiança = 95%)?"
   ]
  },
  {
   "cell_type": "code",
   "execution_count": 2,
   "metadata": {},
   "outputs": [
    {
     "data": {
      "text/plain": [
       "BinomTestResult(k=14, n=100, alternative='two-sided', statistic=0.14, pvalue=0.10920815720825958)"
      ]
     },
     "execution_count": 2,
     "metadata": {},
     "output_type": "execute_result"
    }
   ],
   "source": [
    "# sempre fazer isso na prova para ele interpretar \n",
    "# HO: p = p0\n",
    "# HA: p <> p0\n",
    "\n",
    "stats.binomtest(14, 100,p = 0.21, alternative='two-sided')\n",
    "\n",
    "# sempre fazer isso na prova para ele nao descontar nota \n",
    "# como tivemos um pValue > 0.05, falhamos em rejeitar a hipotese nula. Portanto, a proporção de fumantes não mudou"
   ]
  },
  {
   "attachments": {},
   "cell_type": "markdown",
   "metadata": {},
   "source": [
    "Taxa de fumantes em uma cidade era 21%. Uma amostra de 100 habitantes encontrou 14 fumantes. A proporção de fumantes da cidade reduziu? (uma cauda – nível de confiança = 95%)."
   ]
  },
  {
   "cell_type": "code",
   "execution_count": 3,
   "metadata": {},
   "outputs": [
    {
     "data": {
      "text/plain": [
       "BinomTestResult(k=14, n=100, alternative='less', statistic=0.14, pvalue=0.05042460221552153)"
      ]
     },
     "execution_count": 3,
     "metadata": {},
     "output_type": "execute_result"
    }
   ],
   "source": [
    "# HO: p >= p0\n",
    "# HA: p < p0\n",
    "\n",
    "stats.binomtest(14, 100,p = 0.21, alternative='less')\n",
    "\n",
    "# Como o pValue > 0.05, falhamos em rejeitar a hipotese nula. Portanto, a taxa de fumantes nao diminuiu."
   ]
  },
  {
   "attachments": {},
   "cell_type": "markdown",
   "metadata": {},
   "source": [
    "Exercício 1 \\\n",
    "Uma empresa realizou uma campanha anti-tabagismo visando diminuir a proporção de seus trabalhadores que são fumantes. Sabe-se que antes da campanha 21% dos trabalhadores se declaravam fumantes. Para verificar se essa porcentagem mudou após a campanha, a empresa coletou informações de 100 funcionários e armazenou o resultado no arquivo Smokers.csv. Realize um teste de hipótese e informe se a proporção de fumantes continua a mesma ou mudou.(uma cauda – nível de confiança = 95%)"
   ]
  },
  {
   "cell_type": "code",
   "execution_count": 4,
   "metadata": {},
   "outputs": [
    {
     "data": {
      "text/plain": [
       "BinomTestResult(k=17, n=100, alternative='two-sided', statistic=0.17, pvalue=0.39008168921916747)"
      ]
     },
     "execution_count": 4,
     "metadata": {},
     "output_type": "execute_result"
    }
   ],
   "source": [
    "df = pd.read_csv('Smokers.csv')\n",
    "fumantes = df.groupby('Smokers').count()\n",
    "nro_fumantes = fumantes.loc['Yes'].values[0]\n",
    "\n",
    "# HO: p = p0\n",
    "# HA: p <> p0\n",
    "\n",
    "stats.binomtest(nro_fumantes, 100,p = 0.21, alternative='two-sided')\n",
    "\n",
    "# como tivemos um pValue > 0.05, falhamos em rejeitar a hipotese nula. Portanto, a proporção de fumantes não mudou\n",
    "\n"
   ]
  },
  {
   "attachments": {},
   "cell_type": "markdown",
   "metadata": {},
   "source": [
    "Exercício 2 \\\n",
    "Uma estimativa feita por um instuto de pesquisa apontou que 25% das mulheres que frequentam restaurantes numa dada cidade são fumantes. O dono de um restaurante decidiu testar uma amostra de suas clientes para verificar se esta estimativa é correta. Realize o teste de uma proporção com os dados contidos em 'tips.csv' e informe se a estimativa está correta (nível de confiança = 95%)."
   ]
  },
  {
   "cell_type": "code",
   "execution_count": 5,
   "metadata": {},
   "outputs": [
    {
     "name": "stderr",
     "output_type": "stream",
     "text": [
      "C:\\Users\\Pedro Venancio\\AppData\\Local\\Temp\\ipykernel_2100\\573724155.py:3: FutureWarning: The default of observed=False is deprecated and will be changed to True in a future version of pandas. Pass observed=False to retain current behavior or observed=True to adopt the future default and silence this warning.\n",
      "  fumantes = df.groupby('smoker').count()\n"
     ]
    },
    {
     "data": {
      "text/plain": [
       "BinomTestResult(k=33, n=87, alternative='two-sided', statistic=0.3793103448275862, pvalue=0.008747732318429489)"
      ]
     },
     "execution_count": 5,
     "metadata": {},
     "output_type": "execute_result"
    }
   ],
   "source": [
    "df = sns.load_dataset('tips')\n",
    "df = df[df['sex'] == 'Female']\n",
    "fumantes = df.groupby('smoker').count()\n",
    "nro_fumantes = fumantes.loc['Yes'].values[0]\n",
    "nro_fumantes\n",
    "\n",
    "# HO: p = p0\n",
    "# HA: p <> p0\n",
    "\n",
    "stats.binomtest(nro_fumantes, 87,p = 0.25, alternative='two-sided')\n",
    "\n",
    "# como tivemos um pValue < 0.05, rejeitamos a hipotese nula. Portanto, a proporção de fumantes é diferentes de 25%"
   ]
  }
 ],
 "metadata": {
  "kernelspec": {
   "display_name": "Python 3",
   "language": "python",
   "name": "python3"
  },
  "language_info": {
   "codemirror_mode": {
    "name": "ipython",
    "version": 3
   },
   "file_extension": ".py",
   "mimetype": "text/x-python",
   "name": "python",
   "nbconvert_exporter": "python",
   "pygments_lexer": "ipython3",
   "version": "3.11.3"
  },
  "orig_nbformat": 4
 },
 "nbformat": 4,
 "nbformat_minor": 2
}

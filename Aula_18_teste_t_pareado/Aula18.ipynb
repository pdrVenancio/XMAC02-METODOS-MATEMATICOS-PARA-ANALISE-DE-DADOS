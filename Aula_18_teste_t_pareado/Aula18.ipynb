{
 "cells": [
  {
   "attachments": {},
   "cell_type": "markdown",
   "metadata": {},
   "source": [
    "## Teste t Pareado"
   ]
  },
  {
   "attachments": {},
   "cell_type": "markdown",
   "metadata": {},
   "source": [
    "A pressão sistólica de 5 pacientes foi medida antes e depois da administração de um medicamento. Houve alteração na pressão? Nível de confiança = 95%."
   ]
  },
  {
   "cell_type": "code",
   "execution_count": 2,
   "metadata": {},
   "outputs": [],
   "source": [
    "import pandas as pd\n",
    "import numpy as np\n",
    "import seaborn as sns\n",
    "import matplotlib.pyplot as plt\n",
    "import scipy.stats as stats\n",
    "from statsmodels.stats import proportion"
   ]
  },
  {
   "cell_type": "markdown",
   "metadata": {},
   "source": [
    "H0: μantes = μdepois \\\n",
    "Ha: μantes ≠ μdepois"
   ]
  },
  {
   "cell_type": "code",
   "execution_count": 5,
   "metadata": {},
   "outputs": [],
   "source": [
    "p_antes = [120, 122, 143, 100, 109]\n",
    "p_depois = [122, 120, 141, 109, 109]"
   ]
  },
  {
   "cell_type": "code",
   "execution_count": null,
   "metadata": {},
   "outputs": [
    {
     "data": {
      "text/plain": [
       "TtestResult(statistic=-0.6864064729836442, pvalue=0.5301776477578163, df=4)"
      ]
     },
     "execution_count": 6,
     "metadata": {},
     "output_type": "execute_result"
    }
   ],
   "source": [
    "stats.ttest_rel(p_antes, p_depois)\n",
    "\n",
    "# como p value > 0,05 falhamos em regeirtar a hipotese nula. Portanto, não houve alteraãona pressao arterial dos pacientes"
   ]
  },
  {
   "attachments": {},
   "cell_type": "markdown",
   "metadata": {},
   "source": [
    "### Exercício (Caiu na prova)\n",
    "Um fabricante de tacos de golfe afirma que os golfistas podem diminuir seus placares usando os tacos de golfe recém-projetados por ele. Oito jogadores de golfe são escolhidos aleatoriamente e é pedido a cada um que forneça seu mais recente placar. Após usar os novos tacos por um mês, é pedido novamente aos jogadores que forneçam seus placares mais recentes. Os placares para cada um são mostrados na tabela. Assumindo que os placares de golfe são distribuídos normalmente, existe evidência suficiente para apoiar a afirmação do fabricante para um nível de significância de 10%? \\\n",
    "Placar (tacos antigos) = [89, 84, 96, 82, 74, 92, 85, 91] \\\n",
    "Placar (tacos novos) = [83, 83, 92, 84, 76, 91, 80, 91] \\\n",
    "A) Calcular manualmente \\\n",
    "B) Calcular usando o Python"
   ]
  },
  {
   "cell_type": "code",
   "execution_count": null,
   "metadata": {},
   "outputs": [
    {
     "data": {
      "text/plain": [
       "TtestResult(statistic=1.4982595848788067, pvalue=0.17773848370679768, df=7)"
      ]
     },
     "execution_count": 7,
     "metadata": {},
     "output_type": "execute_result"
    }
   ],
   "source": [
    "# imagem na pasta com a resolução"
   ]
  },
  {
   "cell_type": "code",
   "execution_count": null,
   "metadata": {},
   "outputs": [
    {
     "data": {
      "text/plain": [
       "TtestResult(statistic=1.4982595848788067, pvalue=0.9111307581466012, df=7)"
      ]
     },
     "execution_count": 9,
     "metadata": {},
     "output_type": "execute_result"
    }
   ],
   "source": [
    "\n",
    "antigos = [89, 84, 96, 82, 74, 92, 85, 91]\n",
    "novos = [83, 83, 92, 84, 76, 91, 80, 91]\n",
    "\n",
    "stats.ttest_rel(antigos, novos, alternative='less')\n",
    "# como p value > 0,1 falhamos em regeitar a hipotese nula. Portanto, os tacos novos nao melhoram as placares"
   ]
  }
 ],
 "metadata": {
  "kernelspec": {
   "display_name": "Python 3",
   "language": "python",
   "name": "python3"
  },
  "language_info": {
   "codemirror_mode": {
    "name": "ipython",
    "version": 3
   },
   "file_extension": ".py",
   "mimetype": "text/x-python",
   "name": "python",
   "nbconvert_exporter": "python",
   "pygments_lexer": "ipython3",
   "version": "3.11.3"
  },
  "orig_nbformat": 4
 },
 "nbformat": 4,
 "nbformat_minor": 2
}

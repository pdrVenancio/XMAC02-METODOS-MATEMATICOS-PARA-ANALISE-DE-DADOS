{
 "cells": [
  {
   "attachments": {},
   "cell_type": "markdown",
   "metadata": {},
   "source": [
    "## Teste de Duas Proporções"
   ]
  },
  {
   "attachments": {},
   "cell_type": "markdown",
   "metadata": {},
   "source": [
    "Em uma amostra de 200 itens de um fornecedor A foram encontrados 30 itens defeituosos. Em outra amostra de 100 itens de um fornecedor B foram encontrados 10 defeituosos. Há uma diferença significativa na qualidade dos produtos desses fornecedores? Nível de confiança: 95%."
   ]
  },
  {
   "cell_type": "markdown",
   "metadata": {},
   "source": [
    "H0: p1 - p2 = 0 \\\n",
    "Ha: p1 - p2 ≠ 0"
   ]
  },
  {
   "cell_type": "code",
   "execution_count": 2,
   "metadata": {},
   "outputs": [
    {
     "data": {
      "text/plain": [
       "<class 'statsmodels.stats.base.HolderTuple'>\n",
       "statistic = 1.1989578808281796\n",
       "pvalue = 0.2305443235633593\n",
       "compare = 'diff'\n",
       "method = 'score'\n",
       "variance = 0.001739130434782609\n",
       "alternative = 'two-sided'\n",
       "prop1_null = 0.13333333333333333\n",
       "prop2_null = 0.13333333333333333\n",
       "tuple = (1.1989578808281796, 0.2305443235633593)\n",
       "diff = 0.04999999999999999\n",
       "ratio = 1.4999999999999998\n",
       "odds_ratio = 1.588235294117647\n",
       "value = 0"
      ]
     },
     "execution_count": 2,
     "metadata": {},
     "output_type": "execute_result"
    }
   ],
   "source": [
    "from statsmodels.stats import proportion\n",
    "proportion.test_proportions_2indep(30, 200, 10, 100, method='score')"
   ]
  },
  {
   "cell_type": "markdown",
   "metadata": {},
   "source": [
    "Tendo em vista que P Value = 0,23 que é maior que 0,05, falhamos em rejeitar a hipótese nula. Portanto, não há diferença significativa na qualidade dos produtos A e B."
   ]
  },
  {
   "attachments": {},
   "cell_type": "markdown",
   "metadata": {},
   "source": [
    "Exercício \\\n",
    "Em um estudo de 200 mulheres adultas selecionadas aleatoriamente e 250 homens adultos, ambos usuários de Internet, 30% das mulheres e 38% dos homens disseram que planejam comprar online ao menos uma vez no mês seguinte. Ao nível de confiança de 90%, testar a afirmação de que há uma diferença entre a proporção de homens e mulheres, usuários de Internet, que planejam comprar online. \\\n",
    "A) Calcular manualmente \\\n",
    "B) Calcular utilizando o Python"
   ]
  },
  {
   "cell_type": "markdown",
   "metadata": {},
   "source": [
    "H0: p1 - p2 = 0 \\\n",
    "Ha: p1 - p2 ≠ 0"
   ]
  },
  {
   "cell_type": "code",
   "execution_count": 4,
   "metadata": {},
   "outputs": [
    {
     "data": {
      "text/plain": [
       "<class 'statsmodels.stats.base.HolderTuple'>\n",
       "statistic = -1.772643092104187\n",
       "pvalue = 0.0762878664367035\n",
       "compare = 'diff'\n",
       "method = 'score'\n",
       "variance = 0.0020367483296213807\n",
       "alternative = 'two-sided'\n",
       "prop1_null = 0.34444444444444444\n",
       "prop2_null = 0.34444444444444444\n",
       "tuple = (-1.772643092104187, 0.0762878664367035)\n",
       "diff = -0.08000000000000002\n",
       "ratio = 0.7894736842105263\n",
       "odds_ratio = 0.6992481203007519\n",
       "value = 0"
      ]
     },
     "execution_count": 4,
     "metadata": {},
     "output_type": "execute_result"
    }
   ],
   "source": [
    "proportion.test_proportions_2indep(60, 200, 95, 250, method='score')"
   ]
  },
  {
   "cell_type": "markdown",
   "metadata": {},
   "source": [
    "Como P Value < 0.1, rejeitamos a hipótese nula. Portanto, HÁ diferença na proporção de homens e mulheres que planejam comprar online no mês seguinte."
   ]
  }
 ],
 "metadata": {
  "kernelspec": {
   "display_name": "base",
   "language": "python",
   "name": "python3"
  },
  "language_info": {
   "codemirror_mode": {
    "name": "ipython",
    "version": 3
   },
   "file_extension": ".py",
   "mimetype": "text/x-python",
   "name": "python",
   "nbconvert_exporter": "python",
   "pygments_lexer": "ipython3",
   "version": "3.11.3"
  },
  "orig_nbformat": 4
 },
 "nbformat": 4,
 "nbformat_minor": 2
}

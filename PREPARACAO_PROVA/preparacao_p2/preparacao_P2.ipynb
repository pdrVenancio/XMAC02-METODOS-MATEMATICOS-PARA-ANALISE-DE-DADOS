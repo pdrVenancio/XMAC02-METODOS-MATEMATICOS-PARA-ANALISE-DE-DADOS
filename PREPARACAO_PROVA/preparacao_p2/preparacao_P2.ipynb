{
 "cells": [
  {
   "cell_type": "markdown",
   "metadata": {},
   "source": [
    "## Exercícios de Preparação para Prova"
   ]
  },
  {
   "cell_type": "code",
   "execution_count": 7,
   "metadata": {},
   "outputs": [],
   "source": [
    "import pandas as pd\n",
    "import numpy as np\n",
    "import seaborn as sns\n",
    "import matplotlib.pyplot as plt\n",
    "import scipy.stats as stats\n",
    "from scipy.stats import f\n",
    "from statsmodels.stats import weightstats"
   ]
  },
  {
   "attachments": {},
   "cell_type": "markdown",
   "metadata": {},
   "source": [
    "### Questão 1 \n",
    "Considere duas máquinas de evase de perfumes A e B. Simule uma amostra de 50 frascos produzidos pela máquina A, com média 200 ml e desvio padrão de 3 ml. Em seguida, simule uma amostra de 50 frascos produzidos pela máquina B, com média 202 ml e desvio padrão de 2 ml. Para a simulação, use np.random.normal \\\n",
    "Por fim, realize um teste Z com as duas amostras e informe se as máquinas A e B estão produzindo perfumes da mesma forma. Calculcar com 95% de confiança."
   ]
  },
  {
   "cell_type": "code",
   "execution_count": 8,
   "metadata": {},
   "outputs": [
    {
     "data": {
      "text/plain": [
       "(np.float64(-4.694320641755214), np.float64(2.6749418582928066e-06))"
      ]
     },
     "execution_count": 8,
     "metadata": {},
     "output_type": "execute_result"
    }
   ],
   "source": [
    "# Hipoterse nula: A == B\n",
    "# Hipotese alternativa: A != B\n",
    "\n",
    "\n",
    "# (normal, desvio, quantidade)\n",
    "m1 = np.random.normal(200, 3, 50)\n",
    "m2 = np.random.normal(202, 2, 50)\n",
    "\n",
    "weightstats.ztest(m1,m2)\n",
    "\n",
    "# Se pValue < que teste de confiança, falhamos em rejeitar e aceitamos hipótese alternativa\n",
    "# Se pValue > que teste de confiança, rejeitamos e mantemos hipótese nula\n",
    "\n",
    "# Como pValue < 0.05, falamos em rejeitar a hipotese nula. Logo as maquinas estão produzindo perfumes de forma diferente"
   ]
  },
  {
   "attachments": {},
   "cell_type": "markdown",
   "metadata": {},
   "source": [
    "### Questão 2 \n",
    "Considere o dataset \"penguins\" do Seaborn. Realize um teste de hipótese Z no qual a hipótese nula seja que pinguins machos têm o mesmo peso que pinguins fêmeas. O peso de cada pinguim está no campo \"body_mass_g\". Note que é preciso eliminar as linhas que contém NaN nos campos \"body_mass_g\" e \"sex\". Calcular com 95% de confiança."
   ]
  },
  {
   "cell_type": "code",
   "execution_count": 9,
   "metadata": {},
   "outputs": [
    {
     "data": {
      "text/plain": [
       "(np.float64(3.9106936791064526), np.float64(9.203142895489397e-05))"
      ]
     },
     "execution_count": 9,
     "metadata": {},
     "output_type": "execute_result"
    }
   ],
   "source": [
    "# hipotese nula: PesoPenguimMacho == PesoPenguimFemea\n",
    "# hipotese alternativa: PesoPenguimMacho != PesoPenguimFemea\n",
    "\n",
    "df = sns.load_dataset('penguins')\n",
    "df = df.sample(frac=0.3, random_state=400)\n",
    "df = df.dropna() # remove valores nulos/NaN\n",
    "\n",
    "df_macho = df[df['sex'] == 'Male']\n",
    "df_femea = df[df['sex'] == 'Female']\n",
    "\n",
    "weightstats.ztest(df_macho['body_mass_g'],df_femea['body_mass_g'])\n",
    "# Como pValue < 0.05, falamos em rejeitar a hipotese nula. Logo os pengins tem pesos diferente"
   ]
  },
  {
   "attachments": {},
   "cell_type": "markdown",
   "metadata": {},
   "source": [
    "### Questão 3 \n",
    "Avaliou-se em 240 Kg o desvio padrão das tensões de ruptura de certos cabos produzidos por uma fábrica. Depois de ter sido introduzida uma mudança no processo de fabricação desses cabos, as tensões de ruptura de uma amostra de 8 cabos apresentaram o desvio padrão de 300 Kg. É possível afirmar que houve mudança no desvio padrão (nível de confiança: 90%)."
   ]
  },
  {
   "cell_type": "code",
   "execution_count": null,
   "metadata": {},
   "outputs": [
    {
     "name": "stdout",
     "output_type": "stream",
     "text": [
      "chi_sq_cal: 10.9375\n",
      "chi_sq_critico: 12.01703662378053\n"
     ]
    }
   ],
   "source": [
    "# Hipotese nula: u_antes > u_depois\n",
    "# Hipotese alternativa: u_antes == u_depois\n",
    "\n",
    "# chi_sq_cal\n",
    "chi_sq_cal = (8-1)*(300**2)/(240**2)\n",
    "print(f\"chi_sq_cal: {chi_sq_cal}\")\n",
    "\n",
    "# chi_sq_critico\n",
    "print(f\"chi_sq_critico: {stats.chi2.isf(0.10, 7)}\")\n",
    "\n",
    "# Como chi_sq_cal (10.93) < chi_sq_critico (12.01)\n",
    "# Falhamos em rejeitar a hipotese nula. Portanto, não há mudança no desvio padrão"
   ]
  },
  {
   "attachments": {},
   "cell_type": "markdown",
   "metadata": {},
   "source": [
    "### Questão 4 \n",
    "As especificações dos pentes de memória RAM para computadores fabricados pela Companhia Boa Memória indicam que a porcentagem de pentes defeituosos não excede 5%. Uma amostra de cem desses pentes apresentou sete defeituosos. \\\n",
    "Com base nesse resultado, podemos afirmar que as especificações estão incorretas? (Nível de confiança = 95%)."
   ]
  },
  {
   "cell_type": "code",
   "execution_count": null,
   "metadata": {},
   "outputs": [],
   "source": []
  },
  {
   "attachments": {},
   "cell_type": "markdown",
   "metadata": {},
   "source": [
    "### Questão 5 \n",
    "Sabe-se que o consumo mensal “per capita” de um determinado produto tem distribuição normal, com desvio padrão 2 Kg. A diretoria de uma empresa que fabrica esse produto resolveu que retiraria o produto da linha de produção se a média de consumo “per capita” fosse menor que 8 Kg. Foi realizada uma pesquisa de mercado, tomando-se uma amostra de 25 indivíduos e verificou-se que: Σ xi = 180 Kg, onde xi representa o consumo mensal do i-ésimo indivíduo da amostra. \\\n",
    "a) Com base nos resultados da amostra e com um nível de confiança de 95%, qual deveria ser a decisão da diretoria? \\\n",
    "b) Se a diretoria tivesse fixado o nível de confiança em 99% a decisão seria a mesma? Justifique sua resposta."
   ]
  },
  {
   "cell_type": "code",
   "execution_count": null,
   "metadata": {},
   "outputs": [],
   "source": []
  },
  {
   "cell_type": "markdown",
   "metadata": {},
   "source": [
    "### Questão 6\n",
    "O PISA - Programme for International Student Assessment - é uma avaliação comparada aplicada de forma amostral a estudantes na faixa etária dos 15 anos, idade em que se pressupõe o término da escolaridade básica obrigatória na maioria dos países. Os países nórdicos têm notadamente um excelente desempenho no PISA. Utilizando o dataset \"pisa.csv\", realize um teste de hipótese que verifique se o desempenho ddos estudantes da Suécia (SWE), Finlândia (FIN) e Noruega (NOR) em matemática (PISAMATH) é equivalente (mesma média). NO seu teste você deve utilizar o SUBJECT \"TOT\" e objter a média de \"Value\" referente aos anos (TIME). Realize o teste com confiança de 95%."
   ]
  },
  {
   "cell_type": "code",
   "execution_count": null,
   "metadata": {},
   "outputs": [
    {
     "data": {
      "text/plain": [
       "F_onewayResult(statistic=np.float64(13.170154107168115), pvalue=np.float64(0.0004987485159035))"
      ]
     },
     "execution_count": 23,
     "metadata": {},
     "output_type": "execute_result"
    }
   ],
   "source": [
    "# hipotese nula: mediaSweNota = MediaFinNota = MeidaNorNota\n",
    "# hipotese alternativa: Médias não são iguais\n",
    "\n",
    "df = pd.read_csv('pisa.csv')\n",
    "\n",
    "df = df[(df['SUBJECT'] == 'TOT') & (df['INDICATOR'] == 'PISAMATH')]\n",
    "\n",
    "swe = df[df['LOCATION'] == 'SWE']['Value'] \n",
    "fin = df[df['LOCATION'] == 'FIN']['Value'] \n",
    "nor = df[df['LOCATION'] == 'NOR']['Value'] \n",
    "\n",
    "stats.f_oneway(swe, fin, nor)\n",
    "\n",
    "# Como pvalue < 0.05, rejeitamos a hipótese nula. As médias não são iguais."
   ]
  },
  {
   "cell_type": "markdown",
   "metadata": {},
   "source": [
    "### Questão 7\n",
    "O dataset 'salaries_final.csv' exibe os salários (Base Pay) de profissionais de uma universidade americana. Queremos saber se os professores associados (Associate Professor) de 3 diferentes Colleges dessa universidade receberam, em média, o mesmo salário no ano de 2019. Os Colleges são: \n",
    "- CAS: College of Arts and Science; \n",
    "- CALS: College of Agriculture and Life Sciences; \n",
    "- CESS: College of Educations and Social Services. \n",
    "\n",
    "Realize o teste de hipótese com confiança de 95%."
   ]
  },
  {
   "cell_type": "code",
   "execution_count": null,
   "metadata": {},
   "outputs": [
    {
     "data": {
      "text/plain": [
       "F_onewayResult(statistic=np.float64(75.93157863338187), pvalue=np.float64(3.0981594328670574e-33))"
      ]
     },
     "execution_count": 14,
     "metadata": {},
     "output_type": "execute_result"
    }
   ],
   "source": [
    "# hipotese nula: professor1 = professor2 = professor3\n",
    "# hipotese alternativa: Médias não são iguais\n",
    "\n",
    "df = pd.read_csv('salaries_final.csv')\n",
    "\n",
    "cas = df[df['College'] == 'CAS']['Base Pay']\n",
    "cals = df[df['College'] == 'CALS']['Base Pay']\n",
    "cess = df[df['College'] == 'CESS']['Base Pay']\n",
    "\n",
    "stats.f_oneway(cas, cals, cess)\n",
    "\n",
    "# Como pvalue < 0.05, rejeitamos a hipótese nula. As médias não são iguais.\n",
    "\n",
    "# TAMBEM PODE SER FEITO DA SEGUINTE MANEIRA QUE PRODUZ UM RESULTADO MAIS DETALHADO\n",
    "import statsmodels.stats.oneway as oneway\n",
    "oneway.anova_oneway([cas, cals, cess], use_var = 'equal')"
   ]
  }
 ],
 "metadata": {
  "kernelspec": {
   "display_name": "Python 3",
   "language": "python",
   "name": "python3"
  },
  "language_info": {
   "codemirror_mode": {
    "name": "ipython",
    "version": 3
   },
   "file_extension": ".py",
   "mimetype": "text/x-python",
   "name": "python",
   "nbconvert_exporter": "python",
   "pygments_lexer": "ipython3",
   "version": "3.12.3"
  },
  "orig_nbformat": 4
 },
 "nbformat": 4,
 "nbformat_minor": 2
}

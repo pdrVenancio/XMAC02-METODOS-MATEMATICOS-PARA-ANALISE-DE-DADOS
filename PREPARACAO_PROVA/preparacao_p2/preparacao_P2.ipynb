{
 "cells": [
  {
   "cell_type": "markdown",
   "metadata": {},
   "source": [
    "## Exercícios de Preparação para Prova"
   ]
  },
  {
   "cell_type": "code",
   "execution_count": 11,
   "metadata": {},
   "outputs": [],
   "source": [
    "import pandas as pd\n",
    "import numpy as np\n",
    "import seaborn as sns\n",
    "import matplotlib.pyplot as plt\n",
    "import scipy.stats as stats\n",
    "from scipy.stats import f\n",
    "from statsmodels.stats import weightstats\n",
    "from scipy.stats import norm"
   ]
  },
  {
   "attachments": {},
   "cell_type": "markdown",
   "metadata": {},
   "source": [
    "### Questão 1 \n",
    "Considere duas máquinas de evase de perfumes A e B. Simule uma amostra de 50 frascos produzidos pela máquina A, com média 200 ml e desvio padrão de 3 ml. Em seguida, simule uma amostra de 50 frascos produzidos pela máquina B, com média 202 ml e desvio padrão de 2 ml. Para a simulação, use np.random.normal \\\n",
    "Por fim, realize um teste Z com as duas amostras e informe se as máquinas A e B estão produzindo perfumes da mesma forma. Calculcar com 95% de confiança."
   ]
  },
  {
   "cell_type": "code",
   "execution_count": 12,
   "metadata": {},
   "outputs": [
    {
     "data": {
      "text/plain": [
       "(np.float64(-3.0298978290973637), np.float64(0.002446364809847891))"
      ]
     },
     "execution_count": 12,
     "metadata": {},
     "output_type": "execute_result"
    }
   ],
   "source": [
    "# Hipoterse nula: A == B\n",
    "# Hipotese alternativa: A != B\n",
    "\n",
    "\n",
    "# (normal, desvio, quantidade)\n",
    "m1 = np.random.normal(200, 3, 50)\n",
    "m2 = np.random.normal(202, 2, 50)\n",
    "\n",
    "weightstats.ztest(m1,m2)\n",
    "\n",
    "# Se pValue < que teste de confiança, falhamos em rejeitar e aceitamos hipótese alternativa\n",
    "# Se pValue > que teste de confiança, rejeitamos e mantemos hipótese nula\n",
    "\n",
    "# Como o pValue < 0.05, rejeitamos a hipótese nula. As máquinas não estão produzindo com a mesma média."
   ]
  },
  {
   "attachments": {},
   "cell_type": "markdown",
   "metadata": {},
   "source": [
    "### Questão 2 \n",
    "Considere o dataset \"penguins\" do Seaborn. Realize um teste de hipótese Z no qual a hipótese nula seja que pinguins machos têm o mesmo peso que pinguins fêmeas. O peso de cada pinguim está no campo \"body_mass_g\". Note que é preciso eliminar as linhas que contém NaN nos campos \"body_mass_g\" e \"sex\". Calcular com 95% de confiança."
   ]
  },
  {
   "cell_type": "code",
   "execution_count": 13,
   "metadata": {},
   "outputs": [
    {
     "data": {
      "text/plain": [
       "(np.float64(3.9106936791064526), np.float64(9.203142895489397e-05))"
      ]
     },
     "execution_count": 13,
     "metadata": {},
     "output_type": "execute_result"
    }
   ],
   "source": [
    "# hipotese nula: PesoPenguimMacho == PesoPenguimFemea\n",
    "# hipotese alternativa: PesoPenguimMacho != PesoPenguimFemea\n",
    "\n",
    "df = sns.load_dataset('penguins')\n",
    "df = df.sample(frac=0.3, random_state=400)\n",
    "df = df.dropna() # remove valores nulos/NaN\n",
    "\n",
    "df_macho = df[df['sex'] == 'Male']\n",
    "df_femea = df[df['sex'] == 'Female']\n",
    "\n",
    "# grafico\n",
    "# sns.catplot(data=df, x=\"sex\", y=\"body_mass_g\", kind='box')\n",
    "\n",
    "weightstats.ztest(df_macho['body_mass_g'],df_femea['body_mass_g'])\n",
    "\n",
    "# Como pValue < 0.05 rejeitamos a hipótese nula. Pinguins machos e fêmeas não tem o mesmo peso médio."
   ]
  },
  {
   "attachments": {},
   "cell_type": "markdown",
   "metadata": {},
   "source": [
    "### Questão 3 \n",
    "Avaliou-se em 240 Kg o desvio padrão das tensões de ruptura de certos cabos produzidos por uma fábrica. Depois de ter sido introduzida uma mudança no processo de fabricação desses cabos, as tensões de ruptura de uma amostra de 8 cabos apresentaram o desvio padrão de 300 Kg. É possível afirmar que houve mudança no desvio padrão (nível de confiança: 90%)."
   ]
  },
  {
   "cell_type": "code",
   "execution_count": 14,
   "metadata": {},
   "outputs": [
    {
     "name": "stdout",
     "output_type": "stream",
     "text": [
      "chi_sq_cal: 10.9375\n",
      "Minima: 2.167349909298058 / Maxima: 14.067140449340167\n"
     ]
    }
   ],
   "source": [
    "# Hipotese nula: u_antes = u_depois\n",
    "# Hipotese alternativa: u_antes != u_depois\n",
    "\n",
    "# chi_sq_cal\n",
    "chi_sq_cal = (8-1)*(300**2)/(240**2)\n",
    "print(f\"chi_sq_cal: {chi_sq_cal}\")\n",
    "\n",
    "# Faixa de criticos\n",
    "print(f'Minima: {stats.chi2.isf(0.95, 7)} / Maxima: {stats.chi2.isf(0.05, 7)}')\n",
    "\n",
    "# Como o Χ calculado (10.9) está dentro da faixa dos X críticos (2.17 e 14.07), falhamos em rejeitar a hipótese nula. Portanto, não houve mudança no desvio padrão."
   ]
  },
  {
   "attachments": {},
   "cell_type": "markdown",
   "metadata": {},
   "source": [
    "### Questão 4 \n",
    "As especificações dos pentes de memória RAM para computadores fabricados pela Companhia Boa Memória indicam que a porcentagem de pentes defeituosos não excede 5%. Uma amostra de cem desses pentes apresentou sete defeituosos. \\\n",
    "Com base nesse resultado, podemos afirmar que as especificações estão incorretas? (Nível de confiança = 95%)."
   ]
  },
  {
   "cell_type": "code",
   "execution_count": 15,
   "metadata": {},
   "outputs": [
    {
     "data": {
      "text/plain": [
       "BinomTestResult(k=7, n=100, alternative='greater', statistic=0.07, pvalue=0.23398601598516827)"
      ]
     },
     "execution_count": 15,
     "metadata": {},
     "output_type": "execute_result"
    }
   ],
   "source": [
    "# Hipotese nula: p <= p0\n",
    "# Hipotese alternativa: p > p0\n",
    "\n",
    "stats.binomtest(7, 100, p=0.05, alternative='greater')\n",
    "\n",
    "# Como pValue > 0.05, falhamos em rejeitar a hipótese nula. Portanto, as especificações estão corretas."
   ]
  },
  {
   "attachments": {},
   "cell_type": "markdown",
   "metadata": {},
   "source": [
    "### Questão 5 \n",
    "Sabe-se que o consumo mensal “per capita” de um determinado produto tem distribuição normal, com desvio padrão 2 Kg. A diretoria de uma empresa que fabrica esse produto resolveu que retiraria o produto da linha de produção se a média de consumo “per capita” fosse menor que 8 Kg. Foi realizada uma pesquisa de mercado, tomando-se uma amostra de 25 indivíduos e verificou-se que: Σ xi = 180 Kg, onde xi representa o consumo mensal do i-ésimo indivíduo da amostra. \\\n",
    "a) Com base nos resultados da amostra e com um nível de confiança de 95%, qual deveria ser a decisão da diretoria? \\\n",
    "b) Se a diretoria tivesse fixado o nível de confiança em 99% a decisão seria a mesma? Justifique sua resposta."
   ]
  },
  {
   "cell_type": "code",
   "execution_count": 16,
   "metadata": {},
   "outputs": [],
   "source": [
    "# A)\n",
    "\n",
    "media = 180/25\n",
    "z_calc = (media-8)/(2/np.sqrt(25))\n",
    "z_crit = norm.ppf(0.05)\n",
    "\n",
    "# z_calc < z_crit, portanto z_calc está dentro da área crítica. Assim, rejeitamos a hipótese nula. O consumo médio é menor que 8 Kg e o produto deve ser retirado da linha de prosução."
   ]
  },
  {
   "cell_type": "code",
   "execution_count": 17,
   "metadata": {},
   "outputs": [
    {
     "data": {
      "text/plain": [
       "np.float64(-2.3263478740408408)"
      ]
     },
     "execution_count": 17,
     "metadata": {},
     "output_type": "execute_result"
    }
   ],
   "source": [
    "# B)\n",
    "\n",
    "z_crit = norm.ppf(0.01)\n",
    "z_crit\n",
    "\n",
    "# Com alpha = 0.01, temos z_calc > z_crit. Neste caso, z_calc não estã dentro da área crítica. Assim, falhamos em rejeitar a hipótese nula. \n",
    "# O consumo médio é maior que 8 kg e o produto deve ser mantido na linha de produção."
   ]
  },
  {
   "cell_type": "markdown",
   "metadata": {},
   "source": [
    "### Questão 6\n",
    "O PISA - Programme for International Student Assessment - é uma avaliação comparada aplicada de forma amostral a estudantes na faixa etária dos 15 anos, idade em que se pressupõe o término da escolaridade básica obrigatória na maioria dos países. Os países nórdicos têm notadamente um excelente desempenho no PISA. Utilizando o dataset \"pisa.csv\", realize um teste de hipótese que verifique se o desempenho ddos estudantes da Suécia (SWE), Finlândia (FIN) e Noruega (NOR) em matemática (PISAMATH) é equivalente (mesma média). NO seu teste você deve utilizar o SUBJECT \"TOT\" e objter a média de \"Value\" referente aos anos (TIME). Realize o teste com confiança de 95%."
   ]
  },
  {
   "cell_type": "code",
   "execution_count": 18,
   "metadata": {},
   "outputs": [
    {
     "data": {
      "text/plain": [
       "F_onewayResult(statistic=np.float64(13.170154107168115), pvalue=np.float64(0.0004987485159035))"
      ]
     },
     "execution_count": 18,
     "metadata": {},
     "output_type": "execute_result"
    }
   ],
   "source": [
    "# hipotese nula: mediaSweNota = MediaFinNota = MeidaNorNota\n",
    "# hipotese alternativa: Médias não são iguais\n",
    "\n",
    "df = pd.read_csv('pisa.csv')\n",
    "\n",
    "df = df[(df['SUBJECT'] == 'TOT') & (df['INDICATOR'] == 'PISAMATH')]\n",
    "\n",
    "swe = df[df['LOCATION'] == 'SWE']['Value'] \n",
    "fin = df[df['LOCATION'] == 'FIN']['Value'] \n",
    "nor = df[df['LOCATION'] == 'NOR']['Value'] \n",
    "\n",
    "stats.f_oneway(swe, fin, nor)\n",
    "\n",
    "# Como pvalue < 0.05, rejeitamos a hipótese nula. As médias não são iguais."
   ]
  },
  {
   "cell_type": "markdown",
   "metadata": {},
   "source": [
    "### Questão 7\n",
    "O dataset 'salaries_final.csv' exibe os salários (Base Pay) de profissionais de uma universidade americana. Queremos saber se os professores associados (Associate Professor) de 3 diferentes Colleges dessa universidade receberam, em média, o mesmo salário no ano de 2019. Os Colleges são: \n",
    "- CAS: College of Arts and Science; \n",
    "- CALS: College of Agriculture and Life Sciences; \n",
    "- CESS: College of Educations and Social Services. \n",
    "\n",
    "Realize o teste de hipótese com confiança de 95%."
   ]
  },
  {
   "cell_type": "code",
   "execution_count": null,
   "metadata": {},
   "outputs": [
    {
     "data": {
      "text/plain": [
       "F_onewayResult(statistic=np.float64(75.93157863338187), pvalue=np.float64(3.0981594328670574e-33))"
      ]
     },
     "execution_count": 19,
     "metadata": {},
     "output_type": "execute_result"
    }
   ],
   "source": [
    "# hipotese nula: professor1 = professor2 = professor3\n",
    "# hipotese alternativa: Médias não são iguais\n",
    "\n",
    "df = pd.read_csv('salaries_final.csv')\n",
    "dff = df[(df['Primary Job Title']=='Associate Professor') & (df['Year']==2019)]\n",
    "\n",
    "cas = df[df['College'] == 'CAS']['Base Pay']\n",
    "cals = df[df['College'] == 'CALS']['Base Pay']\n",
    "cess = df[df['College'] == 'CESS']['Base Pay']\n",
    "\n",
    "stats.f_oneway(cas, cals, cess)\n",
    "\n",
    "# Como pValue > 0.05, falhamos em rejeitar a hipótese nula. Portanto, a média salarial dos professores associados dos 3 colleges é igual.\n",
    "\n",
    "# TAMBEM PODE SER FEITO DA SEGUINTE MANEIRA QUE PRODUZ UM RESULTADO MAIS DETALHADO\n",
    "# import statsmodels.stats.oneway as oneway\n",
    "# oneway.anova_oneway([cas, cals, cess], use_var = 'equal')"
   ]
  }
 ],
 "metadata": {
  "kernelspec": {
   "display_name": "Python 3",
   "language": "python",
   "name": "python3"
  },
  "language_info": {
   "codemirror_mode": {
    "name": "ipython",
    "version": 3
   },
   "file_extension": ".py",
   "mimetype": "text/x-python",
   "name": "python",
   "nbconvert_exporter": "python",
   "pygments_lexer": "ipython3",
   "version": "3.12.3"
  },
  "orig_nbformat": 4
 },
 "nbformat": 4,
 "nbformat_minor": 2
}

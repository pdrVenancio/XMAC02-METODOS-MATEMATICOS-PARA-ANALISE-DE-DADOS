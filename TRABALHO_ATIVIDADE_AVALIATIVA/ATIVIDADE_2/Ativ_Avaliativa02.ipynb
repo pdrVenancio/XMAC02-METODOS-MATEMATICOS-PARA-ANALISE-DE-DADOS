{
 "cells": [
  {
   "cell_type": "markdown",
   "metadata": {},
   "source": [
    "### Atividade Avaliativa 2\n",
    "Nome: Breno Vieira Nogueira Carneiro\n",
    "Nro matrícula: 2023003929\n",
    "\n",
    "Nome: Pedro Venâncio dos Santos\n",
    "Nro matrícula: 2023010066"
   ]
  },
  {
   "attachments": {},
   "cell_type": "markdown",
   "metadata": {},
   "source": [
    "Nesta atividade você deverá realizar *dois* testes de hipótese a sua escolha. Entretanto, um dos testes deve ser de uma amostra e o outro de duas amostras.\n",
    "\n",
    "Explore os datasets do Seaborn. Escolha dois datasets para realizar os testes de hipótese. Exemplo: vou realizar um teste de hipótese no dataset \"penguins\". Minha hipótese nula é que os pinguins machos e fêmeas têm o mesmo peso médio.\n",
    "\n",
    "Não é permitido utilizar o dataset inteiro. Deve-se usar uma amostra do dataset que não seja maior que 30% do dataset. Para ver como obter amostras de um dataframe Pandas, consulte: https://datatofish.com/random-rows-pandas-dataframe/\n",
    "\n",
    "O mais importante nesta atividade não é mostrar o código Python e sim descrever seu teste de hipótese de forma clara. Para tanto, utilize células de Markdown para descrever o teste e, ao final, discuta o resultado obtido.\n",
    "\n",
    "Deve-se informar explicitamente as hipóteses nulas e alternativas, bem como o valor do erro alpha. Em seguida, deve-se informar o teste que será realizado e mostrar que os dados da amostra atendem às condições para a realização do teste escolhido. Após realizar o teste, deve-se discutir o resultado e informar a conclusão.\n",
    "\n",
    "Importante: Você NÃO pode usar os datasets titanic, penguins e tips."
   ]
  },
  {
   "cell_type": "code",
   "execution_count": 1,
   "metadata": {},
   "outputs": [],
   "source": [
    "import pandas as pd\n",
    "import seaborn as sns\n",
    "import scipy.stats as stats"
   ]
  },
  {
   "cell_type": "code",
   "execution_count": 2,
   "metadata": {},
   "outputs": [
    {
     "data": {
      "text/plain": [
       "['anagrams',\n",
       " 'anscombe',\n",
       " 'attention',\n",
       " 'brain_networks',\n",
       " 'car_crashes',\n",
       " 'diamonds',\n",
       " 'dots',\n",
       " 'dowjones',\n",
       " 'exercise',\n",
       " 'flights',\n",
       " 'fmri',\n",
       " 'geyser',\n",
       " 'glue',\n",
       " 'healthexp',\n",
       " 'iris',\n",
       " 'mpg',\n",
       " 'penguins',\n",
       " 'planets',\n",
       " 'seaice',\n",
       " 'taxis',\n",
       " 'tips',\n",
       " 'titanic']"
      ]
     },
     "execution_count": 2,
     "metadata": {},
     "output_type": "execute_result"
    }
   ],
   "source": [
    "sns.get_dataset_names()"
   ]
  },
  {
   "cell_type": "markdown",
   "metadata": {},
   "source": [
    "### TESTE DE HIPÓTESE COM 1 AMOSTRA\n",
    "\n",
    "O primeiro teste de hipótese será feito baseando-se no <b>TESTE T</b>.\n",
    "\n",
    "\n",
    "Tendo em vista em erro alfa igual 0,05, queremos verificar se o consumo médio de combustível é igual a 23 mpg.\n",
    "\n",
    "H0: μ = 23 mpg \\\n",
    "Ha: μ ≠ 23 mpg"
   ]
  },
  {
   "cell_type": "code",
   "execution_count": 73,
   "metadata": {},
   "outputs": [
    {
     "data": {
      "text/plain": [
       "count    119.000000\n",
       "mean      23.179832\n",
       "std        7.566167\n",
       "min       11.000000\n",
       "25%       17.000000\n",
       "50%       23.000000\n",
       "75%       28.450000\n",
       "max       41.500000\n",
       "Name: mpg, dtype: float64"
      ]
     },
     "execution_count": 73,
     "metadata": {},
     "output_type": "execute_result"
    }
   ],
   "source": [
    "df = sns.load_dataset('mpg')\n",
    "df4 = df.sample(frac = 0.3, random_state=1)['mpg']  # Selecionar 30% das amostras\n",
    "df4.describe()"
   ]
  },
  {
   "cell_type": "code",
   "execution_count": 74,
   "metadata": {},
   "outputs": [
    {
     "data": {
      "text/plain": [
       "TtestResult(statistic=0.25927723662601, pvalue=0.7958731267465752, df=118)"
      ]
     },
     "execution_count": 74,
     "metadata": {},
     "output_type": "execute_result"
    }
   ],
   "source": [
    "# Realizar o teste t de uma amostra\n",
    "stats.ttest_1samp(df4, 23)"
   ]
  },
  {
   "cell_type": "markdown",
   "metadata": {},
   "source": [
    "Tendo em vista que P Value = 0,79 (maior que 0,05), falhamos em rejeitar a hipótese nula. Portanto o consumo médio de combustível é igual a 23 mpg."
   ]
  },
  {
   "cell_type": "markdown",
   "metadata": {},
   "source": [
    "### TESTE DE HIPÓTESE COM 2 AMOSTRA\n",
    "\n",
    "O primeiro teste de hipótese será feito baseando-se no <b>teste T</b>\n",
    "\n",
    "Queremos investigar se o total de acidentes é significativamente diferente entre os estados com maior e menor porcentagem de acidentes causados por álcool.(confiaça= 95%)\n",
    "\n",
    "H0: p1 - p2 = 0 \\\n",
    "Ha: p1 - p2 ≠ 0"
   ]
  },
  {
   "cell_type": "code",
   "execution_count": 78,
   "metadata": {},
   "outputs": [
    {
     "data": {
      "text/plain": [
       "TtestResult(statistic=2.608894529143615, pvalue=0.021637635647321005, df=13.0)"
      ]
     },
     "execution_count": 78,
     "metadata": {},
     "output_type": "execute_result"
    }
   ],
   "source": [
    "df = sns.load_dataset('car_crashes')\n",
    "df = df.sample(frac=0.3, random_state=400)\n",
    "df['high_alcohol'] = df['alcohol'] > df['alcohol'].median()\n",
    "\n",
    "high_alcohol = df[df['high_alcohol'] == True]\n",
    "low_alcohol = df[df['high_alcohol'] == False]\n",
    "\n",
    "teste = stats.ttest_ind(high_alcohol['total'], low_alcohol['total'], equal_var=True)\n",
    "teste"
   ]
  },
  {
   "cell_type": "markdown",
   "metadata": {},
   "source": [
    "Tendo em vista que P Value = 0,021 (menor que 0,05), rejeitamos a hipótese nula. Portanto existe uma diferença significativa no total de acidentes entre os estados com maior e menor porcentagem de acidentes causados por álcool."
   ]
  }
 ],
 "metadata": {
  "kernelspec": {
   "display_name": "Python 3",
   "language": "python",
   "name": "python3"
  },
  "language_info": {
   "codemirror_mode": {
    "name": "ipython",
    "version": 3
   },
   "file_extension": ".py",
   "mimetype": "text/x-python",
   "name": "python",
   "nbconvert_exporter": "python",
   "pygments_lexer": "ipython3",
   "version": "3.11.3"
  },
  "orig_nbformat": 4
 },
 "nbformat": 4,
 "nbformat_minor": 2
}

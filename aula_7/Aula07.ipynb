{
 "cells": [
  {
   "attachments": {},
   "cell_type": "markdown",
   "metadata": {},
   "source": [
    "## Distribuição de Poisson\n",
    "Vamos começar simulando  um caixa eletrônico que é procurado, em média, por 3,6 pessoas a cada 10 minutos."
   ]
  },
  {
   "cell_type": "code",
   "execution_count": 1,
   "metadata": {},
   "outputs": [],
   "source": [
    "import numpy as np\n",
    "import matplotlib.pyplot as plt\n",
    "import seaborn as sns\n",
    "from scipy.stats import poisson"
   ]
  },
  {
   "attachments": {},
   "cell_type": "markdown",
   "metadata": {},
   "source": [
    "Vamos iniciar aprendendo como gerar um número aleatório baseado na distribuição de Poisson, no caso a distribuição de probabilidade do nosso caixa eletrônico."
   ]
  },
  {
   "cell_type": "code",
   "execution_count": null,
   "metadata": {},
   "outputs": [],
   "source": []
  },
  {
   "attachments": {},
   "cell_type": "markdown",
   "metadata": {},
   "source": [
    "Podemos gerar n números aleatórios com base na distribuição de Poison. A seguir, vamos gerar 10 números aleatórios."
   ]
  },
  {
   "cell_type": "code",
   "execution_count": null,
   "metadata": {},
   "outputs": [],
   "source": []
  },
  {
   "attachments": {},
   "cell_type": "markdown",
   "metadata": {},
   "source": [
    "Vamos agora gerar 1.000 números aleatórios e plotar um gráfico mostrando o resultado."
   ]
  },
  {
   "cell_type": "code",
   "execution_count": null,
   "metadata": {},
   "outputs": [],
   "source": []
  },
  {
   "attachments": {},
   "cell_type": "markdown",
   "metadata": {},
   "source": [
    "O que fizemos até o momento foi realizar um experimento com base numa distribuição de Poison na qual mu = 3,6. Vamos agora ver como utilizar a linguagem Python para obter a probabilidade, a média, a variância e o desvio padrão que calculamos na aula teórica."
   ]
  },
  {
   "attachments": {},
   "cell_type": "markdown",
   "metadata": {},
   "source": [
    "Um determinado caixa automático é procurado, em média, por 3,6 pessoas a cada 10 minutos. Qual a probabilidade de que 7 pessoas procurem o caixa eletrônico em 10 minutos?"
   ]
  },
  {
   "cell_type": "code",
   "execution_count": null,
   "metadata": {},
   "outputs": [],
   "source": []
  },
  {
   "attachments": {},
   "cell_type": "markdown",
   "metadata": {},
   "source": [
    "poisson.cdf(k, mu) - Cumulative distribution function - igual ou menos que \\\n",
    "poisson.pmf(k, mu) - Probability mass function - para o valor exato \\\n",
    "poisson.sf(k, mu) - Para mais que (similar a 1 - cdf) \\\n",
    "poisson.mean(k, mu) - Para a média da distribuição \\\n",
    "poisson.var(k mu) - Para a variância da distribuição \\\n",
    "poisson.std(k, mu) - Para o desvio padrão da distribuição"
   ]
  },
  {
   "attachments": {},
   "cell_type": "markdown",
   "metadata": {},
   "source": [
    "Qual é a probabilidade de termos 7 ou menos pessoas buscando o caixa eletrônico? "
   ]
  },
  {
   "cell_type": "code",
   "execution_count": null,
   "metadata": {},
   "outputs": [],
   "source": []
  },
  {
   "attachments": {},
   "cell_type": "markdown",
   "metadata": {},
   "source": [
    "Vejamos agora o cálculo da média, variância e desvio padrão."
   ]
  },
  {
   "cell_type": "code",
   "execution_count": null,
   "metadata": {},
   "outputs": [],
   "source": []
  },
  {
   "cell_type": "code",
   "execution_count": null,
   "metadata": {},
   "outputs": [],
   "source": []
  },
  {
   "cell_type": "code",
   "execution_count": null,
   "metadata": {},
   "outputs": [],
   "source": []
  },
  {
   "attachments": {},
   "cell_type": "markdown",
   "metadata": {},
   "source": [
    "Vamos agora plotar um gráfico mostrando as probabilidades de termos 0, 1, 2, ..., 10 pessoas na fila. Para tanto, inicialmente geramos um vetor de 0 .. 10 para representar o eixo x e depois geramos outro vetor contendo as probabilidades equivalentes para cada valor do primeiro vetor."
   ]
  },
  {
   "cell_type": "code",
   "execution_count": null,
   "metadata": {},
   "outputs": [],
   "source": []
  },
  {
   "cell_type": "code",
   "execution_count": null,
   "metadata": {},
   "outputs": [],
   "source": []
  },
  {
   "cell_type": "code",
   "execution_count": null,
   "metadata": {},
   "outputs": [],
   "source": []
  },
  {
   "attachments": {},
   "cell_type": "markdown",
   "metadata": {},
   "source": [
    "Vamos agora plotar um gráfico mostrando a probabilidade acumulada."
   ]
  },
  {
   "cell_type": "code",
   "execution_count": null,
   "metadata": {},
   "outputs": [],
   "source": []
  },
  {
   "cell_type": "code",
   "execution_count": null,
   "metadata": {},
   "outputs": [],
   "source": []
  },
  {
   "attachments": {},
   "cell_type": "markdown",
   "metadata": {},
   "source": [
    "Vamos agora simular o comportamento do atendimento no caixa automático. Vamos gerar números randômicos utilizando a distribuição de Poisson na qual a média de atendimentos é 3,6. Inicialmente, vamos gerar um vetor com 10 números randômicos."
   ]
  },
  {
   "cell_type": "code",
   "execution_count": null,
   "metadata": {},
   "outputs": [],
   "source": []
  },
  {
   "attachments": {},
   "cell_type": "markdown",
   "metadata": {},
   "source": [
    "Exercício 1 \\\n",
    "Uma empresa recebe, em média, 4,6 chamadas telefônicas por hora. Qual a probabilidade de que ocorram exatamente 8 chamadas em 1 hora?"
   ]
  },
  {
   "cell_type": "code",
   "execution_count": null,
   "metadata": {},
   "outputs": [],
   "source": []
  },
  {
   "attachments": {},
   "cell_type": "markdown",
   "metadata": {},
   "source": [
    "Exercício 2 \\\n",
    "Uma empresa recebe, em média, 4,6 chamadas telefônicas por hora. Qual a probabilidade de que ocorram mais de 6 chamadas em 1 hora?"
   ]
  },
  {
   "cell_type": "code",
   "execution_count": null,
   "metadata": {},
   "outputs": [],
   "source": []
  },
  {
   "attachments": {},
   "cell_type": "markdown",
   "metadata": {},
   "source": [
    "Exercício 3 \\\n",
    "O número médio de colisões ocorrendo em uma semana durante os meses de verão em uma intersecção é de 2,0. Assuma que os pressupostos para a distribuição de Poisson são satisfeitas. \\\n",
    "A) Qual é a probabilidade de que nenhuma colisão ocorra em uma semana em particular? \\\n",
    "B) Qual é a probabilidade de que exatamemente uma colisão ocorra em uma semana em particular? \\\n",
    "C) Qual é a probabilidade de que exatamente duas colisões ocorram em uma semana em particular? \\\n",
    "D) Qual é a probabilidade de encontrar não mais do que duas colisões em uma semana? \\\n",
    "E) Qual é a probabilidade de encontrar exatamente duas colisões em um intervalo de duas semanas?"
   ]
  },
  {
   "cell_type": "code",
   "execution_count": null,
   "metadata": {},
   "outputs": [],
   "source": []
  },
  {
   "cell_type": "code",
   "execution_count": null,
   "metadata": {},
   "outputs": [],
   "source": []
  },
  {
   "cell_type": "code",
   "execution_count": null,
   "metadata": {},
   "outputs": [],
   "source": []
  },
  {
   "cell_type": "code",
   "execution_count": null,
   "metadata": {},
   "outputs": [],
   "source": []
  },
  {
   "cell_type": "code",
   "execution_count": null,
   "metadata": {},
   "outputs": [],
   "source": []
  },
  {
   "attachments": {},
   "cell_type": "markdown",
   "metadata": {},
   "source": [
    "Exercício 4 \\\n",
    "O número de meteoros encontrados por um sistem de radar em qualquer intervalo de 30-segundos sob determinadas condições é em média 1.81. Assuma que os meteoros apareçam aleatóriamente e independentemente.\n",
    "A) Qual é a probabilidade de que nenhum meteoro seja encontrado em um intervalo de um minuto (60-segundos)?\n",
    "B) Qual é a probabilidade de que sejam observados no mínimo cinco porém não mais que oito meteoros em dois minutos (120-segundos) de observação?"
   ]
  },
  {
   "cell_type": "code",
   "execution_count": null,
   "metadata": {},
   "outputs": [],
   "source": []
  },
  {
   "cell_type": "code",
   "execution_count": null,
   "metadata": {},
   "outputs": [],
   "source": []
  }
 ],
 "metadata": {
  "kernelspec": {
   "display_name": "base",
   "language": "python",
   "name": "python3"
  },
  "language_info": {
   "codemirror_mode": {
    "name": "ipython",
    "version": 3
   },
   "file_extension": ".py",
   "mimetype": "text/x-python",
   "name": "python",
   "nbconvert_exporter": "python",
   "pygments_lexer": "ipython3",
   "version": "3.9.7"
  },
  "orig_nbformat": 4,
  "vscode": {
   "interpreter": {
    "hash": "375cb2be7c48c11bb855aa4c37dc6c17bef886eb77cae35fc21e121628c6e1e2"
   }
  }
 },
 "nbformat": 4,
 "nbformat_minor": 2
}
